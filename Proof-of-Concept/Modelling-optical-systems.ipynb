{
 "cells": [
  {
   "attachments": {},
   "cell_type": "markdown",
   "metadata": {},
   "source": [
    "To create a proof of concept for this method, we start by modelling a simple system in 2D space. Let's first assume our optical system consists of a monochromatic laser with a certain spread and wavelength, shining through a medium with a certain optical density onto a detector. The laser exists at the position $(0, 0)$, pointing towards the positive $x$ direction. The detector is positioned at $(0, p)$ where $p$ can be any positive real number. For now, the influence of the medium is neglected and the system is assumed to exist in a perfect vacuum, which has a optical density of $0$. Because this system exists in 2D space, effects of polarisation on the light is absent, as all light in 2D space is polarised.  "
   ]
  },
  {
   "attachments": {},
   "cell_type": "markdown",
   "metadata": {},
   "source": [
    "To simulate the light in 2 dimensions, this [blog](https://www.dev-mind.blog/simulating-light/) and this [article](https://static.uni-graz.at/fileadmin/_Persoenliche_Webseite/puschnig_peter/unigrazform/Theses/Ohner_FDTD_Bachelorarbeit_final.pdf) will be used as a guide for implementing the Maxwell equations. "
   ]
  },
  {
   "cell_type": "code",
   "execution_count": 117,
   "metadata": {},
   "outputs": [],
   "source": [
    "import numpy as np\n",
    "import seaborn as sns\n",
    "import matplotlib.pyplot as plt\n",
    "import cv2\n",
    "\n",
    "speed_of_light = 3E8\n",
    "\n",
    "permitivity = 0.4\n",
    "permeability = 0.05\n",
    "conductivity = 0.01\n",
    "\n",
    "delta_x = 0.01\n",
    "delta_y = delta_x\n",
    "delta_time = 0.001 #10 / (np.sqrt(2) * speed_of_light)\n",
    "\n",
    "nt = 20000\n",
    "nx = 256\n",
    "ny = 256\n",
    "\n",
    "cex = permitivity * delta_time / delta_x\n",
    "cey = permitivity * delta_time / delta_y\n",
    "chx = permeability * delta_time / delta_x\n",
    "chy = permeability * delta_time / delta_y\n",
    "\n",
    "ex = np.zeros((nx, ny + 1))\n",
    "ey = np.zeros((nx + 1, ny))\n",
    "hz = np.zeros((nx, ny))\n",
    "\n",
    "sourcepoint = (int(nx / 2), int(ny / 2))\n",
    "\n",
    "nframes = 1200\n",
    "out = cv2.VideoWriter('video.avi', cv2.VideoWriter_fourcc(*'MJPG'), 60, (nx, ny))\n",
    "    \n",
    "for t in range(nt):\n",
    "    ex[:,1:-1] = ex[:,1:-1] + cex * (hz[:,1:] - hz[:,:-1])\n",
    "    ey[1:-1,:] = ey[1:-1,:] - cey * (hz[1:,:] - hz[:-1,:])\n",
    "    hz = hz - chx * (ey[1:,:] - ey[:-1,:]) + chy * (ex[:,1:] - ex[:,:-1])\n",
    "    hz[sourcepoint] = np.sin(t / 500)\n",
    "    \n",
    "    if t % int(nt / nframes) == 0:\n",
    "        img = np.stack((np.clip(255 * (hz + 1) / 2, 0, 255).astype(np.uint8), np.zeros(hz.shape, dtype=np.uint8), np.zeros(hz.shape, dtype=np.uint8)), axis=2)\n",
    "        out.write(img)\n",
    "    \n",
    "out.release()"
   ]
  }
 ],
 "metadata": {
  "kernelspec": {
   "display_name": "base",
   "language": "python",
   "name": "python3"
  },
  "language_info": {
   "codemirror_mode": {
    "name": "ipython",
    "version": 3
   },
   "file_extension": ".py",
   "mimetype": "text/x-python",
   "name": "python",
   "nbconvert_exporter": "python",
   "pygments_lexer": "ipython3",
   "version": "3.9.13"
  },
  "orig_nbformat": 4
 },
 "nbformat": 4,
 "nbformat_minor": 2
}
